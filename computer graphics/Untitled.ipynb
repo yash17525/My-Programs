{
 "cells": [
  {
   "cell_type": "code",
   "execution_count": 3,
   "metadata": {},
   "outputs": [],
   "source": [
    "import matplotlib.pyplot as plt"
   ]
  },
  {
   "cell_type": "code",
   "execution_count": 5,
   "metadata": {},
   "outputs": [],
   "source": [
    "x = [1, 2, 3, 4, 5]\n",
    "y = [5, 4, 3, 2, 1]"
   ]
  },
  {
   "cell_type": "code",
   "execution_count": 6,
   "metadata": {
    "scrolled": false
   },
   "outputs": [
    {
     "data": {
      "text/plain": [
       "[<matplotlib.lines.Line2D at 0x7f82b027bd68>]"
      ]
     },
     "execution_count": 6,
     "metadata": {},
     "output_type": "execute_result"
    },
    {
     "data": {
      "image/png": "[encoded data removed]",
      "text/plain": [
       "<matplotlib.figure.Figure at 0x7f82c88ad278>"
      ]
     },
     "metadata": {},
     "output_type": "display_data"
    }
   ],
   "source": [
    "plt.plot(x, y, \"ro\")"
   ]
  },
  {
   "cell_type": "markdown",
   "metadata": {},
   "source": [
    "program to genete a line using DDA algorithm"
   ]
  },
  {
   "cell_type": "code",
   "execution_count": 8,
   "metadata": {},
   "outputs": [
    {
     "name": "stdout",
     "output_type": "stream",
     "text": [
      "Enter x co-ordinate of 1st point100 \n",
      "Enter y co-ordinate of 1st point100\n",
      "Enter x co-ordinate of 2nd point200\n",
      "Enter y co-ordinate of 2nd point400\n",
      "0.3333333333333333\n",
      "1.0\n",
      "100 100\n"
     ]
    },
    {
     "data": {
      "image/png": "[encoded data removed]",
      "text/plain": [
       "<matplotlib.figure.Figure at 0x7f82a3c96f60>"
      ]
     },
     "metadata": {},
     "output_type": "display_data"
    }
   ],
   "source": [
    "import matplotlib.pyplot as plt\n",
    "def drawline(x0,y0,x1,y1):\n",
    "    dx = x1-x0\n",
    "    dy = y1-y0\n",
    "    if abs(dx) > abs(dy):\n",
    "        steps = abs(dx)\n",
    "    else:\n",
    "        steps = abs(dy)\n",
    "\n",
    "    x_incre=dx/steps\n",
    "    print(x_incre)\n",
    "    y_incre=dy/steps\n",
    "    print(y_incre)\n",
    "    x=x0\n",
    "    y=y0\n",
    "    print(x,y)\n",
    "    plt.plot(x,y,\"ro\")\n",
    "\n",
    "    for i in range(0,steps):\n",
    "        x = x + x_incre\n",
    "        y = y + y_incre\n",
    "        plt.plot(round(x),round(y),\"rx\")\n",
    "\n",
    "#driver function\n",
    "x0 = int(input(\"Enter x co-ordinate of 1st point\"))\n",
    "y0 = int(input(\"Enter y co-ordinate of 1st point\"))\n",
    "x1 = int(input(\"Enter x co-ordinate of 2nd point\"))\n",
    "y1 = int(input(\"Enter y co-ordinate of 2nd point\"))\n",
    "drawline(x0,y0,x1,y1)\n",
    "    \n",
    "    "
   ]
  },
  {
   "cell_type": "markdown",
   "metadata": {},
   "source": [
    "To make flower using turtle"
   ]
  },
  {
   "cell_type": "code",
   "execution_count": 1,
   "metadata": {},
   "outputs": [],
   "source": [
    "from turtle import *\n",
    "color('cyan','black')\n",
    "begin_fill()\n",
    "speed(10)\n",
    "pensize(5)\n",
    "while True:\n",
    "    forward(500)\n",
    "    left(200)\n",
    "    if abs(pos())<1:\n",
    "        break\n",
    "end_fill()\n",
    "done()"
   ]
  },
  {
   "cell_type": "code",
   "execution_count": null,
   "metadata": {},
   "outputs": [],
   "source": []
  }
 ],
 "metadata": {
  "kernelspec": {
   "display_name": "Python 3",
   "language": "python",
   "name": "python3"
  },
  "language_info": {
   "codemirror_mode": {
    "name": "ipython",
    "version": 3
   },
   "file_extension": ".py",
   "mimetype": "text/x-python",
   "name": "python",
   "nbconvert_exporter": "python",
   "pygments_lexer": "ipython3",
   "version": "3.6.4"
  }
 },
 "nbformat": 4,
 "nbformat_minor": 2
}
